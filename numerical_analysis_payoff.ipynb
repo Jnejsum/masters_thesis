{
 "cells": [
  {
   "cell_type": "markdown",
   "id": "bde5b878-af7a-4181-88e0-a8b7dfd4d2b6",
   "metadata": {},
   "source": [
    "# Numerical condition analysis, investment payoff concern"
   ]
  },
  {
   "cell_type": "code",
   "execution_count": 1,
   "id": "425a7563-b6cb-41d9-a375-a291dfd315b3",
   "metadata": {},
   "outputs": [],
   "source": [
    "# Imports, magics etc.\n",
    "import numpy as np\n",
    "import seaborn as sns\n",
    "import matplotlib.pyplot as plt"
   ]
  },
  {
   "cell_type": "markdown",
   "id": "a0883503-4bb8-4516-b44d-fdf9c90cb126",
   "metadata": {},
   "source": [
    "## Equilibrium 1: Follow signal\n",
    "\n",
    "*Herding deviation incentive condition*\n",
    "\n",
    "\\begin{align}\n",
    "    \\lambda \\theta - C &> \\left( \\theta p + (1-\\theta)\\frac{1}{2} \\right) \\lambda \\frac{2 \\theta (1+\\theta) p}{4 \\theta p + (1-\\theta)^2} \\notag \\\\\n",
    "    & \\qquad + \\left( \\theta (1-p) + (1-\\theta)\\frac{1}{2} \\right) \\lambda \\frac{2\\theta(1+\\theta)(1-p)}{(1+\\theta)^2 - 4\\theta p} - \\frac{1}{2}(1-\\theta^2)(1-\\lambda)k \\label{eq3:BLearnDeviateHerd}\n",
    "\\end{align}\n",
    "\n",
    "*Anti-herding deviation incentive condition*\n",
    "\n",
    "\\begin{align}\n",
    "    C < \\lambda \\frac{2 \\theta^2 \\left(1-2(1-p)p \\right)}{1+\\theta} + \\theta(2p-1)(1-\\lambda)z - \\frac{1}{2}(1+\\theta^2)(1-\\lambda)k \\label{eq3:BLearnDeviateAntiHerd}\n",
    "\\end{align}\n",
    "\n",
    "*A learning incentive condition*\n",
    "\n",
    "\\begin{align}\n",
    "& \\lambda \\theta - \\frac{\\theta^2}{2}(1-\\lambda)k - C > \\left( \\theta p + (1-\\theta)\\frac{1}{2} \\right) \\lambda \\left( \\frac{\\theta (1+\\theta) p}{4 \\theta p  + (1-\\theta)^2} + \\frac{\\theta (1-p)}{1+\\theta} \\right) \\notag \\\\\n",
    "    & \\qquad + \\left( \\theta (1-p) + (1-\\theta)\\frac{1}{2} \\right) \\lambda \\left( \\frac{\\theta(1+\\theta)(1-p)}{(1+\\theta)^2 - 4\\theta p} + \\frac{\\theta p}{1+\\theta} \\right)\n",
    "\\end{align}"
   ]
  },
  {
   "cell_type": "code",
   "execution_count": 2,
   "id": "543acbd5-7dc9-4124-a949-049b73cce770",
   "metadata": {},
   "outputs": [],
   "source": [
    "def follow_signal(C_mesh, k_mesh, z=1, theta=0.5, lambda_val=0.5, p=0.85):\n",
    "    # INPUT:\n",
    "    # - C_mesh: mesh grid values of C\n",
    "    # - k_mesh: mesh grid values of k\n",
    "    # - z: value of normalized parameter z\n",
    "    # - theta: value of theta\n",
    "    # - lambda_val: value of lambda\n",
    "    # - p: value of p\n",
    "    \n",
    "    C = C_mesh\n",
    "    k = k_mesh\n",
    "    \n",
    "    # Deviation conditions\n",
    "    def cond_dev_herd(): return lambda_val*theta-C > (theta*p+(1-theta)*0.5)*lambda_val*((2*theta*(1+theta)*p) / (4*theta*p+(1-theta)**2)) \\\n",
    "                        + (theta*(1-p)+(1-theta)*0.5)*lambda_val*((2*theta*(1+theta)*(1-p)) / ((1+theta)**2-4*theta*p)) \\\n",
    "                        - 0.5*(1-theta**2)*(1-lambda_val)*k\n",
    "    \n",
    "    def cond_dev_antiherd(): return C < lambda_val*((2*theta**2*(1-2*(1-p)*p)) / (1+theta)) + theta*(2*p-1)*(1-lambda_val)*z \\\n",
    "                        - 0.5*(1+theta**2)*(1-lambda_val)*k\n",
    "    \n",
    "    def cond_A_learn(): return lambda_val*theta - theta**2/2*(1-lambda_val)*k - C > \\\n",
    "                        (theta*p+(1-theta)*0.5)*lambda_val*((theta*(1+theta)*p) / (4*theta*p + (1-theta)**2) + (theta*(1-p)) / (1+theta)) \\\n",
    "                        + (theta*(1-p) + (1-theta)*0.5)*lambda_val*((theta*(1+theta)*(1-p)) / ((1+theta)**2-4*theta*p) + (theta*p) / (1+theta))\n",
    "    \n",
    "    return cond_dev_herd() & cond_dev_antiherd() & cond_A_learn() == True # True if both conditions are true"
   ]
  },
  {
   "cell_type": "markdown",
   "id": "f360bc4a-fe33-4d29-a947-31467ae310a7",
   "metadata": {},
   "source": [
    "## Equilibrium 2: Herding\n",
    "\n",
    "*Learning deviation incentive condition*\n",
    "\n",
    "\\begin{align}\n",
    "& C > \\frac{\\lambda \\theta^2(\\theta-1)}{2} + \\frac{1}{2}(1-\\theta^2)(1-\\lambda)k\n",
    "\\end{align}\n",
    "\n",
    "*Anti-herding deviation incentive condition*\n",
    "\n",
    "\\begin{align}\n",
    "& (1-\\lambda)z > \\lambda \\frac{2\\theta(2p(1-p)-1)}{(1+\\theta)(2p-1)} + \\frac{(1-\\lambda)}{\\theta(2p-1)}k\n",
    "\\end{align}\n",
    "\n",
    "*A learning incentive condition*\n",
    "\n",
    "\\begin{align}\n",
    "& C < \\theta(2p-1)(1-\\lambda)z + \\lambda \\phi , \\quad \\phi \\equiv\\theta - \\frac{-4\\theta^2p^2 + 4\\theta^2 p + \\theta - \\theta^2}{(2\\theta p + 1-\\theta)(1+\\theta -2\\theta p)}\n",
    "\\end{align}"
   ]
  },
  {
   "cell_type": "code",
   "execution_count": 3,
   "id": "b471b691-f523-40ff-a134-9fba689aebf2",
   "metadata": {},
   "outputs": [],
   "source": [
    "def herd(C_mesh, k_mesh, z=1, theta=0.5, lambda_val=0.5, p=0.85):\n",
    "    \n",
    "    C = C_mesh\n",
    "    k = k_mesh\n",
    "    \n",
    "    # Deviation conditions \n",
    "    def cond_dev_learn(): return C > (lambda_val*theta**2*(theta-1))/2 + 0.5*(1-theta**2)*(1-lambda_val)*k\n",
    "\n",
    "    def cond_dev_antiherd(): return (1-lambda_val)*z > lambda_val * (2*theta*(2*p*(1-p)-1)) / ((1+theta)*(2*p-1)) \\\n",
    "                                    + (1-lambda_val) / (theta*(2*p-1)) * k\n",
    "\n",
    "    def cond_A_learn(): return C < theta*(2*p-1)*(1-lambda_val)*z + lambda_val*theta \\\n",
    "                               - lambda_val * ((-4)*theta**2*p**2 + 4*theta**2*p + theta - theta**2) / ((2*theta*p+1-theta)*(1+theta-2*theta*p))\n",
    "    \n",
    "    return cond_dev_learn() & cond_dev_antiherd() & cond_A_learn() == True # True if both conditions are true"
   ]
  },
  {
   "cell_type": "markdown",
   "id": "e741d547-0c67-4cf2-b6aa-fd5a49322cee",
   "metadata": {},
   "source": [
    "## Equilibrium 3: Anti-herding\n",
    "\n",
    "*Learning deviation incentive condition*\n",
    "\n",
    "\\begin{align}\n",
    "C > \\lambda \\frac{\\theta^2(1-\\theta)}{2} + \\theta(2p-1)(1-\\lambda)z - \\frac{1}{2}(1+\\theta^2)(1-\\lambda)k\n",
    "\\end{align}\n",
    "\n",
    "*Herding deviation incentive condition*\n",
    "\n",
    "\\begin{align}\n",
    "& \\lambda \\theta > \\left( \\theta p + (1-\\theta)\\frac{1}{2} \\right) \\lambda \\frac{2 \\theta (1+\\theta) p}{4 \\theta p  + (1-\\theta)^2} + \\left( \\theta (1-p) + (1-\\theta)\\frac{1}{2} \\right) \\lambda \\frac{2\\theta(1+\\theta)(1-p)}{(1+\\theta)^2 - 4\\theta p} \\notag \\\\\n",
    "    & \\qquad + \\theta (2p-1) (1-\\lambda)z - (1-\\lambda)k\n",
    "\\end{align}\n",
    "\n",
    "*A learning incentive condition*\n",
    "\n",
    "\\begin{align}\n",
    "& C < \\theta(2p-1)(1-\\lambda)z + \\lambda \\phi , \\quad \\phi \\equiv\\theta - \\frac{-4\\theta^2p^2 + 4\\theta^2 p + \\theta - \\theta^2}{(2\\theta p + 1-\\theta)(1+\\theta -2\\theta p)}\n",
    "\\end{align}"
   ]
  },
  {
   "cell_type": "code",
   "execution_count": 4,
   "id": "b4111c40-4468-4b42-8a38-3dc8186f170b",
   "metadata": {},
   "outputs": [],
   "source": [
    "def anti_herd(C_mesh, k_mesh, z=1, theta=0.5, lambda_val=0.5, p=0.85):\n",
    "    \n",
    "    C = C_mesh\n",
    "    k = k_mesh\n",
    "    \n",
    "    # Deviation conditions \n",
    "    def cond_dev_learn(): return C > lambda_val*(theta**2*(1-theta))/2 + theta*(2*p-1)*(1-lambda_val)*z - 0.5*(1+theta**2)*(1-lambda_val)*k\n",
    "\n",
    "    def cond_dev_herd(): return lambda_val*theta > (theta*p+(1-theta)*0.5) * lambda_val * ((2*theta*(1+theta)*p) / (4*theta*p + (1-theta)**2)) \\\n",
    "                                + (theta*(1-p)+(1-theta)*0.5) * lambda_val * ((2*theta*(1+theta)*(1-p)) / ((1+theta)**2-4*theta*p)) \\\n",
    "                                + theta*(2*p-1)*(1-lambda_val)*z - (1-lambda_val)*k\n",
    "\n",
    "    def cond_A_learn(): return C < theta*(2*p-1)*(1-lambda_val)*z + lambda_val*theta \\\n",
    "                               - lambda_val * ((-4)*theta**2*p**2 + 4*theta**2*p + theta - theta**2) / ((2*theta*p+1-theta)*(1+theta-2*theta*p))\n",
    "\n",
    "    return cond_dev_learn() & cond_dev_herd() & cond_A_learn() == True # True if both conditions are true"
   ]
  },
  {
   "cell_type": "markdown",
   "id": "aaefd136-6fcf-4927-9955-da34df4d3bf7",
   "metadata": {},
   "source": [
    "## Creating the input parameter matrix\n",
    "\n",
    "The idea is having a two-dimensional grid of C and k parameter values.\n",
    "\n",
    "So, a $nxm$ dimension matrix, where $n$ is the number of C."
   ]
  },
  {
   "cell_type": "code",
   "execution_count": 5,
   "id": "7e3e3ff8-b7a7-42fc-9336-58c8f1d9b160",
   "metadata": {},
   "outputs": [],
   "source": [
    "# PARAMETERS\n",
    "C_min, C_max, C_n = 0, 0.3, 5000\n",
    "k_min, k_max, k_n = 0, 1, 4000\n",
    "\n",
    "# 1) create linspaces\n",
    "C_lin = np.linspace(C_min, C_max, C_n)\n",
    "k_lin = np.linspace(k_min, k_max, k_n)\n",
    "\n",
    "C, k = np.meshgrid(C_lin, k_lin)"
   ]
  },
  {
   "cell_type": "markdown",
   "id": "b13fdc15-98d8-4e15-a69d-17989d402286",
   "metadata": {},
   "source": [
    "## Plotting"
   ]
  },
  {
   "cell_type": "code",
   "execution_count": 6,
   "id": "82e51df5-f84f-40b7-ad28-da8780c04af9",
   "metadata": {},
   "outputs": [],
   "source": [
    "### PARAMETERS/OPTIONS\n",
    "from matplotlib.ticker import FormatStrFormatter\n",
    "import matplotlib.patches as mpatches\n",
    "fontsize = 12\n",
    "\n",
    "alpha = 0.4\n",
    "theta = 0.5"
   ]
  },
  {
   "cell_type": "code",
   "execution_count": 7,
   "id": "a7d6d0cf-8e4f-4b79-a74d-26749f510dbb",
   "metadata": {},
   "outputs": [
    {
     "data": {
      "image/png": "[encoded data removed]",
      "text/plain": [
       "<Figure size 720x720 with 1 Axes>"
      ]
     },
     "metadata": {
      "needs_background": "light"
     },
     "output_type": "display_data"
    }
   ],
   "source": [
    "fig, ax = plt.subplots(figsize=(10,10))\n",
    "ax.imshow(follow_signal(C, k, theta=theta), origin=\"lower\", cmap=\"Reds\", vmin=0.5, alpha=alpha);\n",
    "ax.imshow(herd(C, k, theta=theta), origin=\"lower\", cmap=\"Blues\", vmin=0.5, alpha=alpha);\n",
    "ax.imshow(anti_herd(C, k, theta=theta), origin=\"lower\", cmap=\"Greens\", vmin=0.5, alpha=alpha);\n",
    "ax.set(xticks=np.linspace(C_min, C_n, 7), xticklabels=np.round(np.linspace(C_min, C_max, 7),3));\n",
    "ax.set(yticks=np.linspace(k_min, k_n, 11), yticklabels=np.round(np.linspace(k_min, k_max, 11),2));\n",
    "\n",
    "patches = [mpatches.Patch(color=\"red\", alpha=alpha*0.5, label=\"Learning\"),\n",
    "           mpatches.Patch(color=\"blue\", alpha=alpha*0.5, label=\"Herding\"),\n",
    "           mpatches.Patch(color=\"green\", alpha=alpha*0.5, label=\"Anti-herding\")]\n",
    "ax.legend(handles=patches, loc='upper center', bbox_to_anchor=(0.5, -0.065), ncol=5, frameon=False, fontsize=fontsize);\n",
    "\n",
    "ax.set_xlim(xmax=C_n*5/6)\n",
    "ax.set_xlabel(\"$C$\", fontsize=fontsize)\n",
    "ax.set_ylabel(\"$k$     \", rotation=0, fontsize=fontsize)\n",
    "\n",
    "plt.savefig('Figures/ParameterThreeway', dpi=300, bbox_inches='tight')"
   ]
  },
  {
   "cell_type": "code",
   "execution_count": 8,
   "id": "6c5b2170-1412-43f4-b3c5-c7ce2a5c8451",
   "metadata": {},
   "outputs": [
    {
     "data": {
      "image/png": "[encoded data removed]",
      "text/plain": [
       "<Figure size 720x504 with 2 Axes>"
      ]
     },
     "metadata": {
      "needs_background": "light"
     },
     "output_type": "display_data"
    }
   ],
   "source": [
    "fig, (ax1, ax2) = plt.subplots(1, 2, figsize=(10,7), sharey=True, sharex=True)\n",
    "\n",
    "thetas = [0.25, 0.85]\n",
    "\n",
    "ax1.imshow(follow_signal(C, k, theta=thetas[0]), origin=\"lower\", cmap=\"Reds\", vmin=0.5, alpha=alpha);\n",
    "ax1.imshow(herd(C, k, theta=thetas[0]), origin=\"lower\", cmap=\"Blues\", vmin=0.5, alpha=alpha);\n",
    "ax1.imshow(anti_herd(C, k, theta=thetas[0]), origin=\"lower\", cmap=\"Greens\", vmin=0.5, alpha=alpha);\n",
    "ax1.set(xticks=np.linspace(C_min, C_n, 7), xticklabels=np.round(np.linspace(C_min, C_max, 7),2));\n",
    "ax1.set(yticks=np.linspace(k_min, k_n, 6), yticklabels=np.round(np.linspace(k_min, k_max, 6),2));\n",
    "ax1.set_ylabel(\"$k$     \", rotation=0, fontsize=fontsize)\n",
    "ax1.set_xlabel(\"$C$\", fontsize=fontsize)\n",
    "ax1.set_title(f\"$\\mu={thetas[0]:.2f}$\")\n",
    "\n",
    "ax2.imshow(follow_signal(C, k, theta=thetas[1]), origin=\"lower\", cmap=\"Reds\", vmin=0.5, alpha=alpha);\n",
    "ax2.imshow(herd(C, k, theta=thetas[1]), origin=\"lower\", cmap=\"Blues\", vmin=0.5, alpha=alpha);\n",
    "ax2.imshow(anti_herd(C, k, theta=thetas[1]), origin=\"lower\", cmap=\"Greens\", vmin=0.5, alpha=alpha);\n",
    "ax2.set(xticks=np.linspace(C_min, C_n, 7), xticklabels=np.round(np.linspace(C_min, C_max, 7),2));\n",
    "ax2.set(yticks=np.linspace(k_min, k_n, 6), yticklabels=np.round(np.linspace(k_min, k_max, 6),2));\n",
    "ax2.set_xlabel(\"$C$\", fontsize=fontsize)\n",
    "ax2.set_title(f\"$\\mu={thetas[1]:.2f}$\")\n",
    "# ax2.set_xlim(xmax=2.5)\n",
    "\n",
    "# ax3.imshow(follow_signal(C, k, theta=thetas[2]), origin=\"lower\", cmap=\"Reds\", vmin=0.5, alpha=alpha);\n",
    "# ax3.imshow(herd(C, k, theta=thetas[2]), origin=\"lower\", cmap=\"Blues\", vmin=0.5, alpha=alpha);\n",
    "# ax3.imshow(anti_herd(C, k, theta=thetas[2]), origin=\"lower\", cmap=\"Greens\", vmin=0.5, alpha=alpha);\n",
    "# ax3.set(xticks=np.linspace(C_min, C_n, 5), xticklabels=np.round(np.linspace(C_min, C_max, 5),2));\n",
    "# ax3.set(yticks=np.linspace(k_min, k_n, 6), yticklabels=np.round(np.linspace(k_min, k_max, 6),2));\n",
    "# ax3.set_xlabel(\"$C$\", fontsize=fontsize)\n",
    "# ax3.set_title(f\"$\\\\theta={thetas[2]:.2f}$\")\n",
    "\n",
    "patches = [mpatches.Patch(color=\"red\", alpha=alpha*0.5, label=\"Learning\"),\n",
    "           mpatches.Patch(color=\"blue\", alpha=alpha*0.5, label=\"Herding\"),\n",
    "           mpatches.Patch(color=\"green\", alpha=alpha*0.5, label=\"Anti-herding\")]\n",
    "\n",
    "ax2.legend(handles=patches, loc='upper center', bbox_to_anchor=(-0.125, -0.2), ncol=5, frameon=False, fontsize=fontsize);\n",
    "\n",
    "plt.savefig('Figures/ParameterThreewayVarTheta', dpi=300, bbox_inches='tight')"
   ]
  },
  {
   "cell_type": "code",
   "execution_count": 9,
   "id": "32d10153-941d-4360-aaef-c3e14fec9d65",
   "metadata": {},
   "outputs": [
    {
     "data": {
      "image/png": "[encoded data removed]",
      "text/plain": [
       "<Figure size 720x504 with 2 Axes>"
      ]
     },
     "metadata": {
      "needs_background": "light"
     },
     "output_type": "display_data"
    }
   ],
   "source": [
    "fig, (ax1, ax2) = plt.subplots(1, 2, figsize=(10,7), sharey=True, sharex=True)\n",
    "\n",
    "p_values = [0.65, 0.95]\n",
    "\n",
    "ax1.imshow(follow_signal(C, k, p=p_values[0]), origin=\"lower\", cmap=\"Reds\", vmin=0.5, alpha=alpha);\n",
    "ax1.imshow(herd(C, k, p=p_values[0]), origin=\"lower\", cmap=\"Blues\", vmin=0.5, alpha=alpha);\n",
    "ax1.imshow(anti_herd(C, k, p=p_values[0]), origin=\"lower\", cmap=\"Greens\", vmin=0.5, alpha=alpha);\n",
    "ax1.set(xticks=np.linspace(C_min, C_n, 7), xticklabels=np.round(np.linspace(C_min, C_max, 7),2));\n",
    "ax1.set(yticks=np.linspace(k_min, k_n, 6), yticklabels=np.round(np.linspace(k_min, k_max, 6),2));\n",
    "ax1.set_ylabel(\"$k$     \", rotation=0, fontsize=fontsize)\n",
    "ax1.set_xlabel(\"$C$\", fontsize=fontsize)\n",
    "ax1.set_title(f\"$p={p_values[0]:.2f}$\")\n",
    "\n",
    "ax2.imshow(follow_signal(C, k, p=p_values[1]), origin=\"lower\", cmap=\"Reds\", vmin=0.5, alpha=alpha);\n",
    "ax2.imshow(herd(C, k, p=p_values[1]), origin=\"lower\", cmap=\"Blues\", vmin=0.5, alpha=alpha);\n",
    "ax2.imshow(anti_herd(C, k, p=p_values[1]), origin=\"lower\", cmap=\"Greens\", vmin=0.5, alpha=alpha);\n",
    "ax2.set(xticks=np.linspace(C_min, C_n, 7), xticklabels=np.round(np.linspace(C_min, C_max, 7),2));\n",
    "ax2.set(yticks=np.linspace(k_min, k_n, 6), yticklabels=np.round(np.linspace(k_min, k_max, 6),2));\n",
    "ax2.set_xlabel(\"$C$\", fontsize=fontsize)\n",
    "ax2.set_title(f\"$p={p_values[1]:.2f}$\")\n",
    "\n",
    "# ax3.imshow(follow_signal(C, k, p=p_values[2]), origin=\"lower\", cmap=\"Reds\", vmin=0.5, alpha=alpha);\n",
    "# ax3.imshow(herd(C, k, p=p_values[2]), origin=\"lower\", cmap=\"Blues\", vmin=0.5, alpha=alpha);\n",
    "# ax3.imshow(anti_herd(C, k, p=p_values[2]), origin=\"lower\", cmap=\"Greens\", vmin=0.5, alpha=alpha);\n",
    "# ax3.set(xticks=np.linspace(C_min, C_n, 5), xticklabels=np.round(np.linspace(C_min, C_max, 5),2));\n",
    "# ax3.set(yticks=np.linspace(k_min, k_n, 6), yticklabels=np.round(np.linspace(k_min, k_max, 6),2));\n",
    "# ax3.set_xlabel(\"$C$\", fontsize=fontsize)\n",
    "# ax3.set_title(f\"$p={p_values[2]:.2f}$\")\n",
    "\n",
    "patches = [mpatches.Patch(color=\"red\", alpha=alpha*0.5, label=\"Learning\"),\n",
    "           mpatches.Patch(color=\"blue\", alpha=alpha*0.5, label=\"Herding\"),\n",
    "           mpatches.Patch(color=\"green\", alpha=alpha*0.5, label=\"Anti-herding\")]\n",
    "\n",
    "ax2.legend(handles=patches, loc='upper center', bbox_to_anchor=(-0.125, -0.2), ncol=5, frameon=False, fontsize=fontsize);\n",
    "\n",
    "plt.savefig('Figures/ParameterThreewayVarP', dpi=300, bbox_inches='tight')"
   ]
  }
 ],
 "metadata": {
  "kernelspec": {
   "display_name": "Python 3 (ipykernel)",
   "language": "python",
   "name": "python3"
  },
  "language_info": {
   "codemirror_mode": {
    "name": "ipython",
    "version": 3
   },
   "file_extension": ".py",
   "mimetype": "text/x-python",
   "name": "python",
   "nbconvert_exporter": "python",
   "pygments_lexer": "ipython3",
   "version": "3.8.13"
  }
 },
 "nbformat": 4,
 "nbformat_minor": 5
}
